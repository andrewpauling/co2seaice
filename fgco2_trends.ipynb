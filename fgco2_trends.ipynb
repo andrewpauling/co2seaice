{
 "cells": [
  {
   "cell_type": "code",
   "execution_count": 91,
   "metadata": {},
   "outputs": [],
   "source": [
    "import numpy as np\n",
    "import matplotlib as mpl\n",
    "import matplotlib.pyplot as plt\n",
    "import xarray as xr\n",
    "import cartopy.crs as ccrs\n",
    "import os\n",
    "from glob import glob\n",
    "\n",
    "mpl.rcParams['figure.figsize'] = 12, 8\n",
    "mpl.rcParams['font.size'] = 18"
   ]
  },
  {
   "cell_type": "code",
   "execution_count": 99,
   "metadata": {},
   "outputs": [
    {
     "name": "stderr",
     "output_type": "stream",
     "text": [
      "/glade/u/home/apauling/miniconda3/envs/isotope/lib/python3.6/site-packages/xarray/conventions.py:494: SerializationWarning: variable 'fgco2' has multiple fill values {1e+20, 1e+20}, decoding all values to NaN.\n",
      "  use_cftime=use_cftime,\n"
     ]
    }
   ],
   "source": [
    "def get_hist_co2(institute, model, expt, ens, ):\n",
    "    droot = '/glade/collections/cmip/CMIP6/CMIP'\n",
    "    ddir = os.path.join(droot, institute, model, expt, ens, 'Omon/fgco2')\n",
    "    if len(glob(ddir+'/*')) > 1:\n",
    "        dfiles = glob(ddir+'/gn/latest/fgco2_Omon_'+model+'_'+expt+'_'+ens+'_gn_*.nc')\n",
    "    else:\n",
    "        dfiles = glob(ddir+'/gr/**/*/fgco2_Omon_'+model+'_'+expt+'_'+ens+'_gr_*.nc')\n",
    "            \n",
    "    ds = xr.open_mfdataset(dfiles, combine='by_coords')\n",
    "    \n",
    "    return ds\n",
    "\n",
    "\n",
    "ds = get_hist_co2('NCAR', 'CESM2', 'esm-hist', 'r1i1p1f1')\n",
    "ds2 = get_hist_co2('NOAA-GFDL', 'GFDL-ESM4', 'esm-hist', 'r1i1p1f1')\n"
   ]
  },
  {
   "cell_type": "code",
   "execution_count": 100,
   "metadata": {},
   "outputs": [
    {
     "data": {
      "text/plain": [
       "'nlat'"
      ]
     },
     "execution_count": 100,
     "metadata": {},
     "output_type": "execute_result"
    }
   ],
   "source": [
    "fgco2 = ds['fgco2']\n",
    "fgco2.dims[1]"
   ]
  },
  {
   "cell_type": "code",
   "execution_count": 101,
   "metadata": {},
   "outputs": [],
   "source": [
    "def fix_dim_names(ds):\n",
    "    dimlist = [key for key in ds.dims.keys()]\n",
    "    if 'nlat' in dimlist:\n",
    "        ds = ds.drop('nlat')\n",
    "        ds = ds.drop('nlon')\n",
    "        #ds = ds.rename({'nlat': 'lat'})\n",
    "        #ds = ds.rename({'nlon': 'lon'})\n",
    "        \n",
    "    return ds"
   ]
  },
  {
   "cell_type": "code",
   "execution_count": 102,
   "metadata": {},
   "outputs": [],
   "source": [
    "dsp = fix_dim_names(ds)"
   ]
  },
  {
   "cell_type": "code",
   "execution_count": 104,
   "metadata": {},
   "outputs": [
    {
     "data": {
      "text/plain": [
       "<xarray.Dataset>\n",
       "Dimensions:    (bnds: 2, lat: 180, lon: 360, time: 1980)\n",
       "Coordinates:\n",
       "  * lon        (lon) float64 0.5 1.5 2.5 3.5 4.5 ... 356.5 357.5 358.5 359.5\n",
       "  * lat        (lat) float64 -89.5 -88.5 -87.5 -86.5 ... 86.5 87.5 88.5 89.5\n",
       "  * time       (time) object 1850-01-16 12:00:00 ... 2014-12-16 12:00:00\n",
       "Dimensions without coordinates: bnds\n",
       "Data variables:\n",
       "    fgco2      (time, lat, lon) float32 dask.array<chunksize=(240, 180, 360), meta=np.ndarray>\n",
       "    lat_bnds   (time, lat, bnds) float64 dask.array<chunksize=(240, 180, 2), meta=np.ndarray>\n",
       "    lon_bnds   (time, lon, bnds) float64 dask.array<chunksize=(240, 360, 2), meta=np.ndarray>\n",
       "    time_bnds  (time, bnds) object dask.array<chunksize=(240, 2), meta=np.ndarray>\n",
       "Attributes:\n",
       "    title:                  NOAA GFDL GFDL-ESM4 model output prepared for CMI...\n",
       "    history:                File was processed by fremetar (GFDL analog of CM...\n",
       "    external_variables:     areacello\n",
       "    table_id:               Omon\n",
       "    activity_id:            CMIP\n",
       "    branch_method:          standard\n",
       "    branch_time_in_child:   0.0\n",
       "    branch_time_in_parent:  36500.0\n",
       "    comment:                <null ref>\n",
       "    contact:                gfdl.climate.model.info@noaa.gov\n",
       "    Conventions:            CF-1.7 CMIP-6.0 UGRID-1.0\n",
       "    creation_date:          2019-06-13T01:11:34Z\n",
       "    data_specs_version:     01.00.27\n",
       "    experiment:             all-forcing simulation of the recent past with at...\n",
       "    experiment_id:          esm-hist\n",
       "    forcing_index:          1\n",
       "    frequency:              mon\n",
       "    further_info_url:       https://furtherinfo.es-doc.org/CMIP6.NOAA-GFDL.GF...\n",
       "    grid:                   ocean data regridded from tripolar - nominal 0.5 ...\n",
       "    grid_label:             gr\n",
       "    initialization_index:   1\n",
       "    institution:            National Oceanic and Atmospheric Administration, ...\n",
       "    institution_id:         NOAA-GFDL\n",
       "    license:                CMIP6 model data produced by NOAA-GFDL is license...\n",
       "    mip_era:                CMIP6\n",
       "    nominal_resolution:     1x1 degree\n",
       "    parent_activity_id:     CMIP\n",
       "    parent_experiment_id:   esm-piControl\n",
       "    parent_mip_era:         CMIP6\n",
       "    parent_source_id:       GFDL-ESM4\n",
       "    parent_time_units:      days since 0001-1-1\n",
       "    parent_variant_label:   r1i1p1f1\n",
       "    physics_index:          1\n",
       "    product:                model-output\n",
       "    realization_index:      1\n",
       "    realm:                  ocnBgchem\n",
       "    source:                 GFDL-ESM4 (2018):\\natmos: GFDL-AM4.1 (Cubed-spher...\n",
       "    source_id:              GFDL-ESM4\n",
       "    source_type:            AOGCM AER CHEM BGC\n",
       "    sub_experiment:         none\n",
       "    sub_experiment_id:      none\n",
       "    tracking_id:            hdl:21.14100/05e8f3b0-1290-4baf-978b-2e2d5351b771\n",
       "    variable_id:            fgco2\n",
       "    variant_info:           N/A\n",
       "    references:             see further_info_url attribute\n",
       "    variant_label:          r1i1p1f1"
      ]
     },
     "execution_count": 104,
     "metadata": {},
     "output_type": "execute_result"
    }
   ],
   "source": [
    "ds2"
   ]
  },
  {
   "cell_type": "code",
   "execution_count": 80,
   "metadata": {},
   "outputs": [
    {
     "data": {
      "text/plain": [
       "<xarray.Dataset>\n",
       "Dimensions:    (d2: 2, nlat: 384, nlon: 320, time: 1980, vertices: 4)\n",
       "Coordinates:\n",
       "    lat        (nlat, nlon) float64 dask.array<chunksize=(384, 320), meta=np.ndarray>\n",
       "    lon        (nlat, nlon) float64 dask.array<chunksize=(384, 320), meta=np.ndarray>\n",
       "  * nlon       (nlon) int32 1 2 3 4 5 6 7 8 ... 313 314 315 316 317 318 319 320\n",
       "  * time       (time) object 1850-01-15 13:00:00 ... 2014-12-15 12:00:00\n",
       "Dimensions without coordinates: d2, nlat, vertices\n",
       "Data variables:\n",
       "    fgco2      (time, nlat, nlon) float32 dask.array<chunksize=(600, 384, 320), meta=np.ndarray>\n",
       "    time_bnds  (time, d2) object dask.array<chunksize=(600, 2), meta=np.ndarray>\n",
       "    lat_bnds   (time, nlat, nlon, vertices) float32 dask.array<chunksize=(600, 384, 320, 4), meta=np.ndarray>\n",
       "    lon_bnds   (time, nlat, nlon, vertices) float32 dask.array<chunksize=(600, 384, 320, 4), meta=np.ndarray>\n",
       "Attributes:\n",
       "    Conventions:            CF-1.7 CMIP-6.2\n",
       "    activity_id:            CMIP\n",
       "    branch_method:          standard\n",
       "    branch_time_in_child:   674885.0\n",
       "    branch_time_in_parent:  18250.0\n",
       "    case_id:                1485\n",
       "    cesm_casename:          b.e21.BHIST_BPRP.f09_g17.CMIP6-esm-hist.001\n",
       "    contact:                cesm_cmip6@ucar.edu\n",
       "    creation_date:          2019-04-20T09:43:56Z\n",
       "    data_specs_version:     01.00.30\n",
       "    experiment:             Simulation of recent past (1850 to 2014) with atm...\n",
       "    experiment_id:          esm-hist\n",
       "    external_variables:     areacello\n",
       "    forcing_index:          1\n",
       "    frequency:              mon\n",
       "    further_info_url:       https://furtherinfo.es-doc.org/CMIP6.NCAR.CESM2.e...\n",
       "    grid:                   native gx1v7 displaced pole grid (384x320 latxlon)\n",
       "    grid_label:             gn\n",
       "    initialization_index:   1\n",
       "    institution:            National Center for Atmospheric Research, Climate...\n",
       "    institution_id:         NCAR\n",
       "    license:                CMIP6 model data produced by <The National Center...\n",
       "    mip_era:                CMIP6\n",
       "    model_doi_url:          https://doi.org/10.5065/D67H1H0V\n",
       "    nominal_resolution:     100 km\n",
       "    parent_activity_id:     CMIP\n",
       "    parent_experiment_id:   esm-piControl\n",
       "    parent_mip_era:         CMIP6\n",
       "    parent_source_id:       CESM2\n",
       "    parent_time_units:      days since 0001-01-01 00:00:00\n",
       "    parent_variant_label:   r1i1p1f1\n",
       "    physics_index:          1\n",
       "    product:                model-output\n",
       "    realization_index:      1\n",
       "    realm:                  ocnBgchem\n",
       "    source:                 CESM2 (2017): atmosphere: CAM6 (0.9x1.25 finite v...\n",
       "    source_id:              CESM2\n",
       "    source_type:            AOGCM BGC AER\n",
       "    sub_experiment:         none\n",
       "    sub_experiment_id:      none\n",
       "    table_id:               Omon\n",
       "    tracking_id:            hdl:21.14100/142de98c-4356-49f5-83cd-cc46b0a2fc25\n",
       "    variable_id:            fgco2\n",
       "    variant_info:           CMIP6 CESM2 esm-hist experiment (20th century, 18...\n",
       "    variant_label:          r1i1p1f1"
      ]
     },
     "execution_count": 80,
     "metadata": {},
     "output_type": "execute_result"
    }
   ],
   "source": [
    "ds.drop('nlat')"
   ]
  },
  {
   "cell_type": "code",
   "execution_count": null,
   "metadata": {},
   "outputs": [],
   "source": []
  },
  {
   "cell_type": "code",
   "execution_count": null,
   "metadata": {},
   "outputs": [],
   "source": [
    "\n"
   ]
  },
  {
   "cell_type": "code",
   "execution_count": null,
   "metadata": {},
   "outputs": [],
   "source": []
  }
 ],
 "metadata": {
  "kernelspec": {
   "display_name": "Python 3",
   "language": "python",
   "name": "python3"
  },
  "language_info": {
   "codemirror_mode": {
    "name": "ipython",
    "version": 3
   },
   "file_extension": ".py",
   "mimetype": "text/x-python",
   "name": "python",
   "nbconvert_exporter": "python",
   "pygments_lexer": "ipython3",
   "version": "3.6.7"
  }
 },
 "nbformat": 4,
 "nbformat_minor": 2
}
